{
 "cells": [
  {
   "cell_type": "code",
   "execution_count": 1,
   "id": "ed68ff43",
   "metadata": {},
   "outputs": [],
   "source": [
    "import pandas as pd"
   ]
  },
  {
   "cell_type": "code",
   "execution_count": 2,
   "id": "cf3c59de",
   "metadata": {},
   "outputs": [],
   "source": [
    "data_read = pd.read_csv(\"CSV _converter.csv\")"
   ]
  },
  {
   "cell_type": "code",
   "execution_count": 3,
   "id": "b9bb78ce",
   "metadata": {},
   "outputs": [],
   "source": [
    "data_frame = pd.DataFrame(data_read)"
   ]
  },
  {
   "cell_type": "code",
   "execution_count": 16,
   "id": "77de6086",
   "metadata": {},
   "outputs": [
    {
     "data": {
      "text/html": [
       "<div>\n",
       "<style scoped>\n",
       "    .dataframe tbody tr th:only-of-type {\n",
       "        vertical-align: middle;\n",
       "    }\n",
       "\n",
       "    .dataframe tbody tr th {\n",
       "        vertical-align: top;\n",
       "    }\n",
       "\n",
       "    .dataframe thead th {\n",
       "        text-align: right;\n",
       "    }\n",
       "</style>\n",
       "<table border=\"1\" class=\"dataframe\">\n",
       "  <thead>\n",
       "    <tr style=\"text-align: right;\">\n",
       "      <th></th>\n",
       "      <th>Service ID</th>\n",
       "      <th>RMIN</th>\n",
       "      <th>SSO_Error</th>\n",
       "      <th>Date-time</th>\n",
       "      <th>Platform</th>\n",
       "      <th>Contect-Partent</th>\n",
       "      <th>Content-type</th>\n",
       "      <th>Title</th>\n",
       "      <th>location</th>\n",
       "    </tr>\n",
       "  </thead>\n",
       "  <tbody>\n",
       "    <tr>\n",
       "      <th>0</th>\n",
       "      <td>6789457383</td>\n",
       "      <td>1.000000e+10</td>\n",
       "      <td>AUTHENTICATION_Error</td>\n",
       "      <td>11/23/2022</td>\n",
       "      <td>Android</td>\n",
       "      <td>Hotstar</td>\n",
       "      <td>MOVE</td>\n",
       "      <td>Content Title-1</td>\n",
       "      <td>Delhi</td>\n",
       "    </tr>\n",
       "    <tr>\n",
       "      <th>1</th>\n",
       "      <td>678457383</td>\n",
       "      <td>1.000000e+10</td>\n",
       "      <td>AUTHENTICATION_Error</td>\n",
       "      <td>11/23/2022</td>\n",
       "      <td>IOS</td>\n",
       "      <td>primer</td>\n",
       "      <td>MOVE</td>\n",
       "      <td>Content Title-2</td>\n",
       "      <td>Chennai</td>\n",
       "    </tr>\n",
       "    <tr>\n",
       "      <th>2</th>\n",
       "      <td>6789343557383</td>\n",
       "      <td>1.000000e+10</td>\n",
       "      <td>AUTHENTICATION_Error</td>\n",
       "      <td>11/23/2022</td>\n",
       "      <td>web</td>\n",
       "      <td>sonylive</td>\n",
       "      <td>MOVE</td>\n",
       "      <td>Content Title-3</td>\n",
       "      <td>Delhi</td>\n",
       "    </tr>\n",
       "    <tr>\n",
       "      <th>3</th>\n",
       "      <td>6782346457383</td>\n",
       "      <td>1.000000e+10</td>\n",
       "      <td>AUTHENTICATION_Error</td>\n",
       "      <td>11/23/2022</td>\n",
       "      <td>FTV</td>\n",
       "      <td>Zee5</td>\n",
       "      <td>MOVE</td>\n",
       "      <td>Content Title-4</td>\n",
       "      <td>chennai</td>\n",
       "    </tr>\n",
       "  </tbody>\n",
       "</table>\n",
       "</div>"
      ],
      "text/plain": [
       "      Service ID          RMIN             SSO_Error   Date-time Platform  \\\n",
       "0     6789457383  1.000000e+10  AUTHENTICATION_Error  11/23/2022  Android   \n",
       "1      678457383  1.000000e+10  AUTHENTICATION_Error  11/23/2022      IOS   \n",
       "2  6789343557383  1.000000e+10  AUTHENTICATION_Error  11/23/2022      web   \n",
       "3  6782346457383  1.000000e+10  AUTHENTICATION_Error  11/23/2022      FTV   \n",
       "\n",
       "  Contect-Partent Content-type            Title location  \n",
       "0         Hotstar         MOVE  Content Title-1    Delhi  \n",
       "1          primer         MOVE  Content Title-2  Chennai  \n",
       "2        sonylive         MOVE  Content Title-3    Delhi  \n",
       "3            Zee5         MOVE  Content Title-4  chennai  "
      ]
     },
     "execution_count": 16,
     "metadata": {},
     "output_type": "execute_result"
    }
   ],
   "source": [
    "data_frame"
   ]
  },
  {
   "cell_type": "code",
   "execution_count": 30,
   "id": "eb619da9",
   "metadata": {},
   "outputs": [],
   "source": [
    "var = data_frame[ (data_frame[\"Platform\"] == \"Android\") & \n",
    "                    (data_frame[\"Contect-Partent\"] == \"Hotstar\") &\n",
    "                   (data_frame[\"Content-type\"] == \"MOVE\") &\n",
    "                   (data_frame[\"Title\"] == \"Content Title-1\") &\n",
    "                   (data_frame[\"location\"] == \"Delhi\")]"
   ]
  },
  {
   "cell_type": "code",
   "execution_count": 31,
   "id": "aaa1ea45",
   "metadata": {},
   "outputs": [
    {
     "data": {
      "text/plain": [
       "'{\"Service ID\":{\"0\":6789457383},\"RMIN\":{\"0\":10000000000.0},\"SSO_Error\":{\"0\":\"AUTHENTICATION_Error\"},\"Date-time\":{\"0\":\"11\\\\/23\\\\/2022\"},\"Platform\":{\"0\":\"Android\"},\"Contect-Partent\":{\"0\":\"Hotstar\"},\"Content-type\":{\"0\":\"MOVE\"},\"Title\":{\"0\":\"Content Title-1\"},\"location\":{\"0\":\"Delhi\"}}'"
      ]
     },
     "execution_count": 31,
     "metadata": {},
     "output_type": "execute_result"
    }
   ],
   "source": [
    "var.to_json()"
   ]
  },
  {
   "cell_type": "code",
   "execution_count": null,
   "id": "6d051be4",
   "metadata": {},
   "outputs": [],
   "source": []
  }
 ],
 "metadata": {
  "kernelspec": {
   "display_name": "Python 3.10.7 64-bit",
   "language": "python",
   "name": "python3"
  },
  "language_info": {
   "codemirror_mode": {
    "name": "ipython",
    "version": 3
   },
   "file_extension": ".py",
   "mimetype": "text/x-python",
   "name": "python",
   "nbconvert_exporter": "python",
   "pygments_lexer": "ipython3",
   "version": "3.10.7"
  },
  "vscode": {
   "interpreter": {
    "hash": "0cb416fd175f1694325ae9017ed8f133f94eb77abef30c509bbe1836ea13847e"
   }
  }
 },
 "nbformat": 4,
 "nbformat_minor": 5
}
